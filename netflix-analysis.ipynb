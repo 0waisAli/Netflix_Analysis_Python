{
 "cells": [
  {
   "cell_type": "markdown",
   "id": "9496bd90",
   "metadata": {
    "papermill": {
     "duration": 0.005632,
     "end_time": "2025-05-12T17:02:00.240219",
     "exception": false,
     "start_time": "2025-05-12T17:02:00.234587",
     "status": "completed"
    },
    "tags": []
   },
   "source": [
    "# **Importing Libraries**"
   ]
  },
  {
   "cell_type": "code",
   "execution_count": 1,
   "id": "b1f95130",
   "metadata": {
    "_cell_guid": "b1076dfc-b9ad-4769-8c92-a6c4dae69d19",
    "_uuid": "8f2839f25d086af736a60e9eeb907d3b93b6e0e5",
    "execution": {
     "iopub.execute_input": "2025-05-12T17:02:00.251275Z",
     "iopub.status.busy": "2025-05-12T17:02:00.250932Z",
     "iopub.status.idle": "2025-05-12T17:02:04.461736Z",
     "shell.execute_reply": "2025-05-12T17:02:04.460721Z"
    },
    "papermill": {
     "duration": 4.218682,
     "end_time": "2025-05-12T17:02:04.463666",
     "exception": false,
     "start_time": "2025-05-12T17:02:00.244984",
     "status": "completed"
    },
    "tags": []
   },
   "outputs": [],
   "source": [
    "import pandas as pd\n",
    "import numpy as np\n",
    "import matplotlib.pyplot as plt\n",
    "import seaborn as sns"
   ]
  },
  {
   "cell_type": "markdown",
   "id": "83948558",
   "metadata": {
    "papermill": {
     "duration": 0.004795,
     "end_time": "2025-05-12T17:02:04.473375",
     "exception": false,
     "start_time": "2025-05-12T17:02:04.468580",
     "status": "completed"
    },
    "tags": []
   },
   "source": [
    "# **Reading Dataset**"
   ]
  },
  {
   "cell_type": "code",
   "execution_count": 2,
   "id": "a627a426",
   "metadata": {
    "execution": {
     "iopub.execute_input": "2025-05-12T17:02:04.484332Z",
     "iopub.status.busy": "2025-05-12T17:02:04.483863Z",
     "iopub.status.idle": "2025-05-12T17:02:04.728236Z",
     "shell.execute_reply": "2025-05-12T17:02:04.727117Z"
    },
    "papermill": {
     "duration": 0.251614,
     "end_time": "2025-05-12T17:02:04.730050",
     "exception": false,
     "start_time": "2025-05-12T17:02:04.478436",
     "status": "completed"
    },
    "tags": []
   },
   "outputs": [],
   "source": [
    "df=pd.read_csv('/kaggle/input/netflix-shows/netflix_titles.csv')"
   ]
  },
  {
   "cell_type": "code",
   "execution_count": 3,
   "id": "adc58174",
   "metadata": {
    "execution": {
     "iopub.execute_input": "2025-05-12T17:02:04.740853Z",
     "iopub.status.busy": "2025-05-12T17:02:04.740099Z",
     "iopub.status.idle": "2025-05-12T17:02:04.770421Z",
     "shell.execute_reply": "2025-05-12T17:02:04.769405Z"
    },
    "papermill": {
     "duration": 0.037353,
     "end_time": "2025-05-12T17:02:04.772090",
     "exception": false,
     "start_time": "2025-05-12T17:02:04.734737",
     "status": "completed"
    },
    "tags": []
   },
   "outputs": [
    {
     "data": {
      "text/html": [
       "<div>\n",
       "<style scoped>\n",
       "    .dataframe tbody tr th:only-of-type {\n",
       "        vertical-align: middle;\n",
       "    }\n",
       "\n",
       "    .dataframe tbody tr th {\n",
       "        vertical-align: top;\n",
       "    }\n",
       "\n",
       "    .dataframe thead th {\n",
       "        text-align: right;\n",
       "    }\n",
       "</style>\n",
       "<table border=\"1\" class=\"dataframe\">\n",
       "  <thead>\n",
       "    <tr style=\"text-align: right;\">\n",
       "      <th></th>\n",
       "      <th>show_id</th>\n",
       "      <th>type</th>\n",
       "      <th>title</th>\n",
       "      <th>director</th>\n",
       "      <th>cast</th>\n",
       "      <th>country</th>\n",
       "      <th>date_added</th>\n",
       "      <th>release_year</th>\n",
       "      <th>rating</th>\n",
       "      <th>duration</th>\n",
       "      <th>listed_in</th>\n",
       "      <th>description</th>\n",
       "    </tr>\n",
       "  </thead>\n",
       "  <tbody>\n",
       "    <tr>\n",
       "      <th>0</th>\n",
       "      <td>s1</td>\n",
       "      <td>Movie</td>\n",
       "      <td>Dick Johnson Is Dead</td>\n",
       "      <td>Kirsten Johnson</td>\n",
       "      <td>NaN</td>\n",
       "      <td>United States</td>\n",
       "      <td>September 25, 2021</td>\n",
       "      <td>2020</td>\n",
       "      <td>PG-13</td>\n",
       "      <td>90 min</td>\n",
       "      <td>Documentaries</td>\n",
       "      <td>As her father nears the end of his life, filmm...</td>\n",
       "    </tr>\n",
       "    <tr>\n",
       "      <th>1</th>\n",
       "      <td>s2</td>\n",
       "      <td>TV Show</td>\n",
       "      <td>Blood &amp; Water</td>\n",
       "      <td>NaN</td>\n",
       "      <td>Ama Qamata, Khosi Ngema, Gail Mabalane, Thaban...</td>\n",
       "      <td>South Africa</td>\n",
       "      <td>September 24, 2021</td>\n",
       "      <td>2021</td>\n",
       "      <td>TV-MA</td>\n",
       "      <td>2 Seasons</td>\n",
       "      <td>International TV Shows, TV Dramas, TV Mysteries</td>\n",
       "      <td>After crossing paths at a party, a Cape Town t...</td>\n",
       "    </tr>\n",
       "    <tr>\n",
       "      <th>2</th>\n",
       "      <td>s3</td>\n",
       "      <td>TV Show</td>\n",
       "      <td>Ganglands</td>\n",
       "      <td>Julien Leclercq</td>\n",
       "      <td>Sami Bouajila, Tracy Gotoas, Samuel Jouy, Nabi...</td>\n",
       "      <td>NaN</td>\n",
       "      <td>September 24, 2021</td>\n",
       "      <td>2021</td>\n",
       "      <td>TV-MA</td>\n",
       "      <td>1 Season</td>\n",
       "      <td>Crime TV Shows, International TV Shows, TV Act...</td>\n",
       "      <td>To protect his family from a powerful drug lor...</td>\n",
       "    </tr>\n",
       "    <tr>\n",
       "      <th>3</th>\n",
       "      <td>s4</td>\n",
       "      <td>TV Show</td>\n",
       "      <td>Jailbirds New Orleans</td>\n",
       "      <td>NaN</td>\n",
       "      <td>NaN</td>\n",
       "      <td>NaN</td>\n",
       "      <td>September 24, 2021</td>\n",
       "      <td>2021</td>\n",
       "      <td>TV-MA</td>\n",
       "      <td>1 Season</td>\n",
       "      <td>Docuseries, Reality TV</td>\n",
       "      <td>Feuds, flirtations and toilet talk go down amo...</td>\n",
       "    </tr>\n",
       "    <tr>\n",
       "      <th>4</th>\n",
       "      <td>s5</td>\n",
       "      <td>TV Show</td>\n",
       "      <td>Kota Factory</td>\n",
       "      <td>NaN</td>\n",
       "      <td>Mayur More, Jitendra Kumar, Ranjan Raj, Alam K...</td>\n",
       "      <td>India</td>\n",
       "      <td>September 24, 2021</td>\n",
       "      <td>2021</td>\n",
       "      <td>TV-MA</td>\n",
       "      <td>2 Seasons</td>\n",
       "      <td>International TV Shows, Romantic TV Shows, TV ...</td>\n",
       "      <td>In a city of coaching centers known to train I...</td>\n",
       "    </tr>\n",
       "  </tbody>\n",
       "</table>\n",
       "</div>"
      ],
      "text/plain": [
       "  show_id     type                  title         director  \\\n",
       "0      s1    Movie   Dick Johnson Is Dead  Kirsten Johnson   \n",
       "1      s2  TV Show          Blood & Water              NaN   \n",
       "2      s3  TV Show              Ganglands  Julien Leclercq   \n",
       "3      s4  TV Show  Jailbirds New Orleans              NaN   \n",
       "4      s5  TV Show           Kota Factory              NaN   \n",
       "\n",
       "                                                cast        country  \\\n",
       "0                                                NaN  United States   \n",
       "1  Ama Qamata, Khosi Ngema, Gail Mabalane, Thaban...   South Africa   \n",
       "2  Sami Bouajila, Tracy Gotoas, Samuel Jouy, Nabi...            NaN   \n",
       "3                                                NaN            NaN   \n",
       "4  Mayur More, Jitendra Kumar, Ranjan Raj, Alam K...          India   \n",
       "\n",
       "           date_added  release_year rating   duration  \\\n",
       "0  September 25, 2021          2020  PG-13     90 min   \n",
       "1  September 24, 2021          2021  TV-MA  2 Seasons   \n",
       "2  September 24, 2021          2021  TV-MA   1 Season   \n",
       "3  September 24, 2021          2021  TV-MA   1 Season   \n",
       "4  September 24, 2021          2021  TV-MA  2 Seasons   \n",
       "\n",
       "                                           listed_in  \\\n",
       "0                                      Documentaries   \n",
       "1    International TV Shows, TV Dramas, TV Mysteries   \n",
       "2  Crime TV Shows, International TV Shows, TV Act...   \n",
       "3                             Docuseries, Reality TV   \n",
       "4  International TV Shows, Romantic TV Shows, TV ...   \n",
       "\n",
       "                                         description  \n",
       "0  As her father nears the end of his life, filmm...  \n",
       "1  After crossing paths at a party, a Cape Town t...  \n",
       "2  To protect his family from a powerful drug lor...  \n",
       "3  Feuds, flirtations and toilet talk go down amo...  \n",
       "4  In a city of coaching centers known to train I...  "
      ]
     },
     "execution_count": 3,
     "metadata": {},
     "output_type": "execute_result"
    }
   ],
   "source": [
    "df.head(5)"
   ]
  },
  {
   "cell_type": "markdown",
   "id": "50392ed2",
   "metadata": {
    "papermill": {
     "duration": 0.00453,
     "end_time": "2025-05-12T17:02:04.781423",
     "exception": false,
     "start_time": "2025-05-12T17:02:04.776893",
     "status": "completed"
    },
    "tags": []
   },
   "source": [
    "# **Checking for Null Values**"
   ]
  },
  {
   "cell_type": "code",
   "execution_count": 4,
   "id": "f062815f",
   "metadata": {
    "execution": {
     "iopub.execute_input": "2025-05-12T17:02:04.792640Z",
     "iopub.status.busy": "2025-05-12T17:02:04.791765Z",
     "iopub.status.idle": "2025-05-12T17:02:04.807343Z",
     "shell.execute_reply": "2025-05-12T17:02:04.805665Z"
    },
    "papermill": {
     "duration": 0.023198,
     "end_time": "2025-05-12T17:02:04.809302",
     "exception": false,
     "start_time": "2025-05-12T17:02:04.786104",
     "status": "completed"
    },
    "tags": []
   },
   "outputs": [
    {
     "name": "stdout",
     "output_type": "stream",
     "text": [
      "4.08\n"
     ]
    }
   ],
   "source": [
    "total_cells = df.size\n",
    "total_missing = df.isnull().sum().sum()\n",
    "percent_missing = round((total_missing / total_cells) * 100, 2)\n",
    "print(percent_missing)"
   ]
  },
  {
   "cell_type": "markdown",
   "id": "9be9db3b",
   "metadata": {
    "papermill": {
     "duration": 0.004539,
     "end_time": "2025-05-12T17:02:04.818924",
     "exception": false,
     "start_time": "2025-05-12T17:02:04.814385",
     "status": "completed"
    },
    "tags": []
   },
   "source": [
    "**Luckily only 4 percent of data has null values. Checking the null value distribution below**"
   ]
  },
  {
   "cell_type": "code",
   "execution_count": 5,
   "id": "66b36ecb",
   "metadata": {
    "execution": {
     "iopub.execute_input": "2025-05-12T17:02:04.829872Z",
     "iopub.status.busy": "2025-05-12T17:02:04.829528Z",
     "iopub.status.idle": "2025-05-12T17:02:04.843665Z",
     "shell.execute_reply": "2025-05-12T17:02:04.842845Z"
    },
    "papermill": {
     "duration": 0.02164,
     "end_time": "2025-05-12T17:02:04.845236",
     "exception": false,
     "start_time": "2025-05-12T17:02:04.823596",
     "status": "completed"
    },
    "tags": []
   },
   "outputs": [
    {
     "data": {
      "text/plain": [
       "show_id            0\n",
       "type               0\n",
       "title              0\n",
       "director        2634\n",
       "cast             825\n",
       "country          831\n",
       "date_added        10\n",
       "release_year       0\n",
       "rating             4\n",
       "duration           3\n",
       "listed_in          0\n",
       "description        0\n",
       "dtype: int64"
      ]
     },
     "execution_count": 5,
     "metadata": {},
     "output_type": "execute_result"
    }
   ],
   "source": [
    "df.isnull().sum()"
   ]
  },
  {
   "cell_type": "markdown",
   "id": "e36f1c2f",
   "metadata": {
    "papermill": {
     "duration": 0.004798,
     "end_time": "2025-05-12T17:02:04.854955",
     "exception": false,
     "start_time": "2025-05-12T17:02:04.850157",
     "status": "completed"
    },
    "tags": []
   },
   "source": [
    "**Checking the null values in the form of DataFrames to make sure.**"
   ]
  },
  {
   "cell_type": "code",
   "execution_count": 6,
   "id": "76634a95",
   "metadata": {
    "execution": {
     "iopub.execute_input": "2025-05-12T17:02:04.866697Z",
     "iopub.status.busy": "2025-05-12T17:02:04.866233Z",
     "iopub.status.idle": "2025-05-12T17:02:04.885794Z",
     "shell.execute_reply": "2025-05-12T17:02:04.884667Z"
    },
    "papermill": {
     "duration": 0.027548,
     "end_time": "2025-05-12T17:02:04.887567",
     "exception": false,
     "start_time": "2025-05-12T17:02:04.860019",
     "status": "completed"
    },
    "tags": []
   },
   "outputs": [
    {
     "data": {
      "text/html": [
       "<div>\n",
       "<style scoped>\n",
       "    .dataframe tbody tr th:only-of-type {\n",
       "        vertical-align: middle;\n",
       "    }\n",
       "\n",
       "    .dataframe tbody tr th {\n",
       "        vertical-align: top;\n",
       "    }\n",
       "\n",
       "    .dataframe thead th {\n",
       "        text-align: right;\n",
       "    }\n",
       "</style>\n",
       "<table border=\"1\" class=\"dataframe\">\n",
       "  <thead>\n",
       "    <tr style=\"text-align: right;\">\n",
       "      <th></th>\n",
       "      <th>show_id</th>\n",
       "      <th>type</th>\n",
       "      <th>title</th>\n",
       "      <th>director</th>\n",
       "      <th>cast</th>\n",
       "      <th>country</th>\n",
       "      <th>date_added</th>\n",
       "      <th>release_year</th>\n",
       "      <th>rating</th>\n",
       "      <th>duration</th>\n",
       "      <th>listed_in</th>\n",
       "      <th>description</th>\n",
       "    </tr>\n",
       "  </thead>\n",
       "  <tbody>\n",
       "    <tr>\n",
       "      <th>1</th>\n",
       "      <td>s2</td>\n",
       "      <td>TV Show</td>\n",
       "      <td>Blood &amp; Water</td>\n",
       "      <td>NaN</td>\n",
       "      <td>Ama Qamata, Khosi Ngema, Gail Mabalane, Thaban...</td>\n",
       "      <td>South Africa</td>\n",
       "      <td>September 24, 2021</td>\n",
       "      <td>2021</td>\n",
       "      <td>TV-MA</td>\n",
       "      <td>2 Seasons</td>\n",
       "      <td>International TV Shows, TV Dramas, TV Mysteries</td>\n",
       "      <td>After crossing paths at a party, a Cape Town t...</td>\n",
       "    </tr>\n",
       "    <tr>\n",
       "      <th>3</th>\n",
       "      <td>s4</td>\n",
       "      <td>TV Show</td>\n",
       "      <td>Jailbirds New Orleans</td>\n",
       "      <td>NaN</td>\n",
       "      <td>NaN</td>\n",
       "      <td>NaN</td>\n",
       "      <td>September 24, 2021</td>\n",
       "      <td>2021</td>\n",
       "      <td>TV-MA</td>\n",
       "      <td>1 Season</td>\n",
       "      <td>Docuseries, Reality TV</td>\n",
       "      <td>Feuds, flirtations and toilet talk go down amo...</td>\n",
       "    </tr>\n",
       "    <tr>\n",
       "      <th>4</th>\n",
       "      <td>s5</td>\n",
       "      <td>TV Show</td>\n",
       "      <td>Kota Factory</td>\n",
       "      <td>NaN</td>\n",
       "      <td>Mayur More, Jitendra Kumar, Ranjan Raj, Alam K...</td>\n",
       "      <td>India</td>\n",
       "      <td>September 24, 2021</td>\n",
       "      <td>2021</td>\n",
       "      <td>TV-MA</td>\n",
       "      <td>2 Seasons</td>\n",
       "      <td>International TV Shows, Romantic TV Shows, TV ...</td>\n",
       "      <td>In a city of coaching centers known to train I...</td>\n",
       "    </tr>\n",
       "    <tr>\n",
       "      <th>10</th>\n",
       "      <td>s11</td>\n",
       "      <td>TV Show</td>\n",
       "      <td>Vendetta: Truth, Lies and The Mafia</td>\n",
       "      <td>NaN</td>\n",
       "      <td>NaN</td>\n",
       "      <td>NaN</td>\n",
       "      <td>September 24, 2021</td>\n",
       "      <td>2021</td>\n",
       "      <td>TV-MA</td>\n",
       "      <td>1 Season</td>\n",
       "      <td>Crime TV Shows, Docuseries, International TV S...</td>\n",
       "      <td>Sicily boasts a bold \"Anti-Mafia\" coalition. B...</td>\n",
       "    </tr>\n",
       "    <tr>\n",
       "      <th>14</th>\n",
       "      <td>s15</td>\n",
       "      <td>TV Show</td>\n",
       "      <td>Crime Stories: India Detectives</td>\n",
       "      <td>NaN</td>\n",
       "      <td>NaN</td>\n",
       "      <td>NaN</td>\n",
       "      <td>September 22, 2021</td>\n",
       "      <td>2021</td>\n",
       "      <td>TV-MA</td>\n",
       "      <td>1 Season</td>\n",
       "      <td>British TV Shows, Crime TV Shows, Docuseries</td>\n",
       "      <td>Cameras following Bengaluru police on the job ...</td>\n",
       "    </tr>\n",
       "  </tbody>\n",
       "</table>\n",
       "</div>"
      ],
      "text/plain": [
       "   show_id     type                                title director  \\\n",
       "1       s2  TV Show                        Blood & Water      NaN   \n",
       "3       s4  TV Show                Jailbirds New Orleans      NaN   \n",
       "4       s5  TV Show                         Kota Factory      NaN   \n",
       "10     s11  TV Show  Vendetta: Truth, Lies and The Mafia      NaN   \n",
       "14     s15  TV Show      Crime Stories: India Detectives      NaN   \n",
       "\n",
       "                                                 cast       country  \\\n",
       "1   Ama Qamata, Khosi Ngema, Gail Mabalane, Thaban...  South Africa   \n",
       "3                                                 NaN           NaN   \n",
       "4   Mayur More, Jitendra Kumar, Ranjan Raj, Alam K...         India   \n",
       "10                                                NaN           NaN   \n",
       "14                                                NaN           NaN   \n",
       "\n",
       "            date_added  release_year rating   duration  \\\n",
       "1   September 24, 2021          2021  TV-MA  2 Seasons   \n",
       "3   September 24, 2021          2021  TV-MA   1 Season   \n",
       "4   September 24, 2021          2021  TV-MA  2 Seasons   \n",
       "10  September 24, 2021          2021  TV-MA   1 Season   \n",
       "14  September 22, 2021          2021  TV-MA   1 Season   \n",
       "\n",
       "                                            listed_in  \\\n",
       "1     International TV Shows, TV Dramas, TV Mysteries   \n",
       "3                              Docuseries, Reality TV   \n",
       "4   International TV Shows, Romantic TV Shows, TV ...   \n",
       "10  Crime TV Shows, Docuseries, International TV S...   \n",
       "14       British TV Shows, Crime TV Shows, Docuseries   \n",
       "\n",
       "                                          description  \n",
       "1   After crossing paths at a party, a Cape Town t...  \n",
       "3   Feuds, flirtations and toilet talk go down amo...  \n",
       "4   In a city of coaching centers known to train I...  \n",
       "10  Sicily boasts a bold \"Anti-Mafia\" coalition. B...  \n",
       "14  Cameras following Bengaluru police on the job ...  "
      ]
     },
     "execution_count": 6,
     "metadata": {},
     "output_type": "execute_result"
    }
   ],
   "source": [
    "df[df.director.isnull()].head(5)\n",
    "#df[df.cast.isnull()]\n",
    "#df[df.country.isnull()]\n",
    "#df[df.date_added.isnull()]"
   ]
  },
  {
   "cell_type": "markdown",
   "id": "0b46a084",
   "metadata": {
    "papermill": {
     "duration": 0.004784,
     "end_time": "2025-05-12T17:02:04.897528",
     "exception": false,
     "start_time": "2025-05-12T17:02:04.892744",
     "status": "completed"
    },
    "tags": []
   },
   "source": [
    "# **Replacing Null Values**"
   ]
  },
  {
   "cell_type": "code",
   "execution_count": 7,
   "id": "175cd81a",
   "metadata": {
    "execution": {
     "iopub.execute_input": "2025-05-12T17:02:04.910057Z",
     "iopub.status.busy": "2025-05-12T17:02:04.909783Z",
     "iopub.status.idle": "2025-05-12T17:02:04.926110Z",
     "shell.execute_reply": "2025-05-12T17:02:04.925125Z"
    },
    "papermill": {
     "duration": 0.02507,
     "end_time": "2025-05-12T17:02:04.928102",
     "exception": false,
     "start_time": "2025-05-12T17:02:04.903032",
     "status": "completed"
    },
    "tags": []
   },
   "outputs": [],
   "source": [
    "df = df.fillna('Unknown')"
   ]
  },
  {
   "cell_type": "code",
   "execution_count": 8,
   "id": "56a912f1",
   "metadata": {
    "execution": {
     "iopub.execute_input": "2025-05-12T17:02:04.939971Z",
     "iopub.status.busy": "2025-05-12T17:02:04.939573Z",
     "iopub.status.idle": "2025-05-12T17:02:04.955164Z",
     "shell.execute_reply": "2025-05-12T17:02:04.953985Z"
    },
    "papermill": {
     "duration": 0.023653,
     "end_time": "2025-05-12T17:02:04.957061",
     "exception": false,
     "start_time": "2025-05-12T17:02:04.933408",
     "status": "completed"
    },
    "tags": []
   },
   "outputs": [
    {
     "data": {
      "text/plain": [
       "show_id         0\n",
       "type            0\n",
       "title           0\n",
       "director        0\n",
       "cast            0\n",
       "country         0\n",
       "date_added      0\n",
       "release_year    0\n",
       "rating          0\n",
       "duration        0\n",
       "listed_in       0\n",
       "description     0\n",
       "dtype: int64"
      ]
     },
     "execution_count": 8,
     "metadata": {},
     "output_type": "execute_result"
    }
   ],
   "source": [
    "df.isnull().sum()"
   ]
  },
  {
   "cell_type": "code",
   "execution_count": 9,
   "id": "fa9b5df5",
   "metadata": {
    "execution": {
     "iopub.execute_input": "2025-05-12T17:02:04.969774Z",
     "iopub.status.busy": "2025-05-12T17:02:04.969244Z",
     "iopub.status.idle": "2025-05-12T17:02:04.984804Z",
     "shell.execute_reply": "2025-05-12T17:02:04.983174Z"
    },
    "papermill": {
     "duration": 0.024308,
     "end_time": "2025-05-12T17:02:04.986683",
     "exception": false,
     "start_time": "2025-05-12T17:02:04.962375",
     "status": "completed"
    },
    "tags": []
   },
   "outputs": [
    {
     "data": {
      "text/html": [
       "<div>\n",
       "<style scoped>\n",
       "    .dataframe tbody tr th:only-of-type {\n",
       "        vertical-align: middle;\n",
       "    }\n",
       "\n",
       "    .dataframe tbody tr th {\n",
       "        vertical-align: top;\n",
       "    }\n",
       "\n",
       "    .dataframe thead th {\n",
       "        text-align: right;\n",
       "    }\n",
       "</style>\n",
       "<table border=\"1\" class=\"dataframe\">\n",
       "  <thead>\n",
       "    <tr style=\"text-align: right;\">\n",
       "      <th></th>\n",
       "      <th>show_id</th>\n",
       "      <th>type</th>\n",
       "      <th>title</th>\n",
       "      <th>director</th>\n",
       "      <th>cast</th>\n",
       "      <th>country</th>\n",
       "      <th>date_added</th>\n",
       "      <th>release_year</th>\n",
       "      <th>rating</th>\n",
       "      <th>duration</th>\n",
       "      <th>listed_in</th>\n",
       "      <th>description</th>\n",
       "    </tr>\n",
       "  </thead>\n",
       "  <tbody>\n",
       "    <tr>\n",
       "      <th>1907</th>\n",
       "      <td>s1908</td>\n",
       "      <td>TV Show</td>\n",
       "      <td>Familiar Wife</td>\n",
       "      <td>Unknown</td>\n",
       "      <td>Ji Sung, Han Ji-min, Kang Han-na, Jang Seung-jo</td>\n",
       "      <td>South Korea</td>\n",
       "      <td>October 1, 2020</td>\n",
       "      <td>2018</td>\n",
       "      <td>TV-MA</td>\n",
       "      <td>1 Season</td>\n",
       "      <td>International TV Shows, Romantic TV Shows, TV ...</td>\n",
       "      <td>After receiving a bizarre chance to go back in...</td>\n",
       "    </tr>\n",
       "    <tr>\n",
       "      <th>5470</th>\n",
       "      <td>s5471</td>\n",
       "      <td>TV Show</td>\n",
       "      <td>Bloodline</td>\n",
       "      <td>Unknown</td>\n",
       "      <td>Kyle Chandler, Ben Mendelsohn, Sissy Spacek, L...</td>\n",
       "      <td>United States</td>\n",
       "      <td>May 26, 2017</td>\n",
       "      <td>2017</td>\n",
       "      <td>TV-MA</td>\n",
       "      <td>3 Seasons</td>\n",
       "      <td>TV Dramas, TV Mysteries, TV Thrillers</td>\n",
       "      <td>When the black sheep son of a respected family...</td>\n",
       "    </tr>\n",
       "    <tr>\n",
       "      <th>7230</th>\n",
       "      <td>s7231</td>\n",
       "      <td>Movie</td>\n",
       "      <td>Krish Trish and Baltiboy: Face Your Fears</td>\n",
       "      <td>Tilak Shetty</td>\n",
       "      <td>Tarun Ratnani, Smita Malhotra, Deepak Chachra</td>\n",
       "      <td>India</td>\n",
       "      <td>November 17, 2017</td>\n",
       "      <td>2017</td>\n",
       "      <td>TV-Y7</td>\n",
       "      <td>65 min</td>\n",
       "      <td>Children &amp; Family Movies</td>\n",
       "      <td>In three tales about fear, a baby elephant get...</td>\n",
       "    </tr>\n",
       "    <tr>\n",
       "      <th>5021</th>\n",
       "      <td>s5022</td>\n",
       "      <td>Movie</td>\n",
       "      <td>Yuva</td>\n",
       "      <td>Mani Ratnam</td>\n",
       "      <td>Ajay Devgn, Abhishek Bachchan, Vivek Oberoi, E...</td>\n",
       "      <td>India</td>\n",
       "      <td>March 1, 2018</td>\n",
       "      <td>2004</td>\n",
       "      <td>TV-14</td>\n",
       "      <td>160 min</td>\n",
       "      <td>Dramas, International Movies</td>\n",
       "      <td>An accident on a bridge ties together three yo...</td>\n",
       "    </tr>\n",
       "    <tr>\n",
       "      <th>5019</th>\n",
       "      <td>s5020</td>\n",
       "      <td>Movie</td>\n",
       "      <td>Trailer Park Boys: Xmas Special</td>\n",
       "      <td>Mike Clattenburg</td>\n",
       "      <td>John Paul Tremblay, Robb Wells, John Dunsworth...</td>\n",
       "      <td>Canada</td>\n",
       "      <td>March 1, 2018</td>\n",
       "      <td>2004</td>\n",
       "      <td>TV-MA</td>\n",
       "      <td>46 min</td>\n",
       "      <td>Movies</td>\n",
       "      <td>See what Sunnyvale Trailer Park was like back ...</td>\n",
       "    </tr>\n",
       "  </tbody>\n",
       "</table>\n",
       "</div>"
      ],
      "text/plain": [
       "     show_id     type                                      title  \\\n",
       "1907   s1908  TV Show                              Familiar Wife   \n",
       "5470   s5471  TV Show                                  Bloodline   \n",
       "7230   s7231    Movie  Krish Trish and Baltiboy: Face Your Fears   \n",
       "5021   s5022    Movie                                       Yuva   \n",
       "5019   s5020    Movie            Trailer Park Boys: Xmas Special   \n",
       "\n",
       "              director                                               cast  \\\n",
       "1907           Unknown    Ji Sung, Han Ji-min, Kang Han-na, Jang Seung-jo   \n",
       "5470           Unknown  Kyle Chandler, Ben Mendelsohn, Sissy Spacek, L...   \n",
       "7230      Tilak Shetty      Tarun Ratnani, Smita Malhotra, Deepak Chachra   \n",
       "5021       Mani Ratnam  Ajay Devgn, Abhishek Bachchan, Vivek Oberoi, E...   \n",
       "5019  Mike Clattenburg  John Paul Tremblay, Robb Wells, John Dunsworth...   \n",
       "\n",
       "            country         date_added  release_year rating   duration  \\\n",
       "1907    South Korea    October 1, 2020          2018  TV-MA   1 Season   \n",
       "5470  United States       May 26, 2017          2017  TV-MA  3 Seasons   \n",
       "7230          India  November 17, 2017          2017  TV-Y7     65 min   \n",
       "5021          India      March 1, 2018          2004  TV-14    160 min   \n",
       "5019         Canada      March 1, 2018          2004  TV-MA     46 min   \n",
       "\n",
       "                                              listed_in  \\\n",
       "1907  International TV Shows, Romantic TV Shows, TV ...   \n",
       "5470              TV Dramas, TV Mysteries, TV Thrillers   \n",
       "7230                           Children & Family Movies   \n",
       "5021                       Dramas, International Movies   \n",
       "5019                                             Movies   \n",
       "\n",
       "                                            description  \n",
       "1907  After receiving a bizarre chance to go back in...  \n",
       "5470  When the black sheep son of a respected family...  \n",
       "7230  In three tales about fear, a baby elephant get...  \n",
       "5021  An accident on a bridge ties together three yo...  \n",
       "5019  See what Sunnyvale Trailer Park was like back ...  "
      ]
     },
     "execution_count": 9,
     "metadata": {},
     "output_type": "execute_result"
    }
   ],
   "source": [
    "df.sample(n=5) "
   ]
  },
  {
   "cell_type": "markdown",
   "id": "ec021105",
   "metadata": {
    "papermill": {
     "duration": 0.005093,
     "end_time": "2025-05-12T17:02:04.998166",
     "exception": false,
     "start_time": "2025-05-12T17:02:04.993073",
     "status": "completed"
    },
    "tags": []
   },
   "source": [
    "# **What are the most common types of content on Netflix (Movies vs TV Shows)?**"
   ]
  },
  {
   "cell_type": "code",
   "execution_count": 10,
   "id": "146ee324",
   "metadata": {
    "execution": {
     "iopub.execute_input": "2025-05-12T17:02:05.012350Z",
     "iopub.status.busy": "2025-05-12T17:02:05.011984Z",
     "iopub.status.idle": "2025-05-12T17:02:05.026126Z",
     "shell.execute_reply": "2025-05-12T17:02:05.024544Z"
    },
    "papermill": {
     "duration": 0.022912,
     "end_time": "2025-05-12T17:02:05.027861",
     "exception": false,
     "start_time": "2025-05-12T17:02:05.004949",
     "status": "completed"
    },
    "tags": []
   },
   "outputs": [
    {
     "data": {
      "text/plain": [
       "type\n",
       "Movie      6131\n",
       "TV Show    2676\n",
       "Name: count, dtype: int64"
      ]
     },
     "execution_count": 10,
     "metadata": {},
     "output_type": "execute_result"
    }
   ],
   "source": [
    "df['type'].value_counts()\n",
    "#df.groupby('type').size()"
   ]
  },
  {
   "cell_type": "code",
   "execution_count": 11,
   "id": "9e1a64bd",
   "metadata": {
    "execution": {
     "iopub.execute_input": "2025-05-12T17:02:05.040911Z",
     "iopub.status.busy": "2025-05-12T17:02:05.040567Z",
     "iopub.status.idle": "2025-05-12T17:02:05.292333Z",
     "shell.execute_reply": "2025-05-12T17:02:05.291159Z"
    },
    "papermill": {
     "duration": 0.26077,
     "end_time": "2025-05-12T17:02:05.294421",
     "exception": false,
     "start_time": "2025-05-12T17:02:05.033651",
     "status": "completed"
    },
    "tags": []
   },
   "outputs": [
    {
     "data": {
      "image/png": "[encoded data removed]",
      "text/plain": [
       "<Figure size 640x480 with 1 Axes>"
      ]
     },
     "metadata": {},
     "output_type": "display_data"
    }
   ],
   "source": [
    "sns.countplot(data=df, x='type', palette='Set2')\n",
    "plt.title(\"Content Type Distribution\")\n",
    "plt.xlabel(\"Type\")\n",
    "plt.ylabel(\"Count\")\n",
    "plt.show()"
   ]
  },
  {
   "cell_type": "markdown",
   "id": "d3c20815",
   "metadata": {
    "papermill": {
     "duration": 0.007059,
     "end_time": "2025-05-12T17:02:05.307770",
     "exception": false,
     "start_time": "2025-05-12T17:02:05.300711",
     "status": "completed"
    },
    "tags": []
   },
   "source": [
    "# **How has the number of Netflix releases changed over the years (2012 - 2021)?**"
   ]
  },
  {
   "cell_type": "code",
   "execution_count": 12,
   "id": "d1a48233",
   "metadata": {
    "execution": {
     "iopub.execute_input": "2025-05-12T17:02:05.322523Z",
     "iopub.status.busy": "2025-05-12T17:02:05.322151Z",
     "iopub.status.idle": "2025-05-12T17:02:05.343102Z",
     "shell.execute_reply": "2025-05-12T17:02:05.341890Z"
    },
    "papermill": {
     "duration": 0.031,
     "end_time": "2025-05-12T17:02:05.344767",
     "exception": false,
     "start_time": "2025-05-12T17:02:05.313767",
     "status": "completed"
    },
    "tags": []
   },
   "outputs": [
    {
     "name": "stdout",
     "output_type": "stream",
     "text": [
      "release_year\n",
      "2012     237\n",
      "2013     288\n",
      "2014     352\n",
      "2015     560\n",
      "2016     902\n",
      "2017    1032\n",
      "2018    1147\n",
      "2019    1030\n",
      "2020     953\n",
      "2021     592\n",
      "Name: count, dtype: int64\n"
     ]
    }
   ],
   "source": [
    "year_counts = df['release_year'].value_counts()\n",
    "top10_years = year_counts.head(10).sort_index()\n",
    "print(top10_years)"
   ]
  },
  {
   "cell_type": "code",
   "execution_count": 13,
   "id": "1fc9ff02",
   "metadata": {
    "execution": {
     "iopub.execute_input": "2025-05-12T17:02:05.358398Z",
     "iopub.status.busy": "2025-05-12T17:02:05.358043Z",
     "iopub.status.idle": "2025-05-12T17:02:05.550309Z",
     "shell.execute_reply": "2025-05-12T17:02:05.548861Z"
    },
    "papermill": {
     "duration": 0.201609,
     "end_time": "2025-05-12T17:02:05.552699",
     "exception": false,
     "start_time": "2025-05-12T17:02:05.351090",
     "status": "completed"
    },
    "tags": []
   },
   "outputs": [
    {
     "data": {
      "image/png": "[encoded data removed]",
      "text/plain": [
       "<Figure size 1000x500 with 1 Axes>"
      ]
     },
     "metadata": {},
     "output_type": "display_data"
    }
   ],
   "source": [
    "plt.figure(figsize=(10, 5))\n",
    "plt.plot(top10_years.index, top10_years.values, marker='o', linestyle='-', color='teal')\n",
    "plt.title(\"Number of Netflix Releases by Year\")\n",
    "plt.xlabel(\"Release Year\")\n",
    "plt.ylabel(\"Number of Titles\")\n",
    "plt.grid(True)\n",
    "plt.show()"
   ]
  },
  {
   "cell_type": "markdown",
   "id": "c593c4f5",
   "metadata": {
    "papermill": {
     "duration": 0.007161,
     "end_time": "2025-05-12T17:02:05.567231",
     "exception": false,
     "start_time": "2025-05-12T17:02:05.560070",
     "status": "completed"
    },
    "tags": []
   },
   "source": [
    "# **Which countries produce the most Netflix content?**"
   ]
  },
  {
   "cell_type": "code",
   "execution_count": 14,
   "id": "0a556a15",
   "metadata": {
    "execution": {
     "iopub.execute_input": "2025-05-12T17:02:05.583506Z",
     "iopub.status.busy": "2025-05-12T17:02:05.583132Z",
     "iopub.status.idle": "2025-05-12T17:02:05.594953Z",
     "shell.execute_reply": "2025-05-12T17:02:05.593297Z"
    },
    "papermill": {
     "duration": 0.023576,
     "end_time": "2025-05-12T17:02:05.597916",
     "exception": false,
     "start_time": "2025-05-12T17:02:05.574340",
     "status": "completed"
    },
    "tags": []
   },
   "outputs": [
    {
     "name": "stdout",
     "output_type": "stream",
     "text": [
      "country\n",
      "United States     2818\n",
      "India              972\n",
      "Unknown            831\n",
      "United Kingdom     419\n",
      "Japan              245\n",
      "South Korea        199\n",
      "Canada             181\n",
      "Spain              145\n",
      "France             124\n",
      "Mexico             110\n",
      "Name: count, dtype: int64\n"
     ]
    }
   ],
   "source": [
    "top_countries = df['country'].value_counts().head(10).sort_values(ascending=False)\n",
    "print(top_countries)"
   ]
  },
  {
   "cell_type": "code",
   "execution_count": 15,
   "id": "6975667c",
   "metadata": {
    "execution": {
     "iopub.execute_input": "2025-05-12T17:02:05.615313Z",
     "iopub.status.busy": "2025-05-12T17:02:05.614930Z",
     "iopub.status.idle": "2025-05-12T17:02:05.828520Z",
     "shell.execute_reply": "2025-05-12T17:02:05.827596Z"
    },
    "papermill": {
     "duration": 0.224646,
     "end_time": "2025-05-12T17:02:05.830129",
     "exception": false,
     "start_time": "2025-05-12T17:02:05.605483",
     "status": "completed"
    },
    "tags": []
   },
   "outputs": [
    {
     "data": {
      "image/png": "[encoded data removed]",
      "text/plain": [
       "<Figure size 1000x600 with 1 Axes>"
      ]
     },
     "metadata": {},
     "output_type": "display_data"
    }
   ],
   "source": [
    "plt.figure(figsize=(10, 6))\n",
    "plt.barh(top_countries.index, top_countries.values, color='teal')\n",
    "plt.title(\"Top 10 Countries with Most Netflix Releases\")\n",
    "plt.xlabel(\"Number of Titles\")\n",
    "plt.ylabel(\"Country\")\n",
    "plt.show()"
   ]
  },
  {
   "cell_type": "markdown",
   "id": "6fe72b34",
   "metadata": {
    "papermill": {
     "duration": 0.007018,
     "end_time": "2025-05-12T17:02:05.844883",
     "exception": false,
     "start_time": "2025-05-12T17:02:05.837865",
     "status": "completed"
    },
    "tags": []
   },
   "source": [
    "# **What are the distribution of ratings?**"
   ]
  },
  {
   "cell_type": "code",
   "execution_count": 16,
   "id": "7c4ec5e8",
   "metadata": {
    "execution": {
     "iopub.execute_input": "2025-05-12T17:02:05.860949Z",
     "iopub.status.busy": "2025-05-12T17:02:05.860636Z",
     "iopub.status.idle": "2025-05-12T17:02:05.866850Z",
     "shell.execute_reply": "2025-05-12T17:02:05.865825Z"
    },
    "papermill": {
     "duration": 0.015966,
     "end_time": "2025-05-12T17:02:05.868453",
     "exception": false,
     "start_time": "2025-05-12T17:02:05.852487",
     "status": "completed"
    },
    "tags": []
   },
   "outputs": [],
   "source": [
    "dist=df['rating'].value_counts()"
   ]
  },
  {
   "cell_type": "code",
   "execution_count": 17,
   "id": "bd61a7a2",
   "metadata": {
    "execution": {
     "iopub.execute_input": "2025-05-12T17:02:05.885102Z",
     "iopub.status.busy": "2025-05-12T17:02:05.884114Z",
     "iopub.status.idle": "2025-05-12T17:02:06.150839Z",
     "shell.execute_reply": "2025-05-12T17:02:06.149740Z"
    },
    "papermill": {
     "duration": 0.2772,
     "end_time": "2025-05-12T17:02:06.153039",
     "exception": false,
     "start_time": "2025-05-12T17:02:05.875839",
     "status": "completed"
    },
    "tags": []
   },
   "outputs": [
    {
     "data": {
      "image/png": "[encoded data removed]",
      "text/plain": [
       "<Figure size 640x480 with 1 Axes>"
      ]
     },
     "metadata": {},
     "output_type": "display_data"
    }
   ],
   "source": [
    "sns.countplot(data=df, x='rating', palette='coolwarm', order = dist.index)\n",
    "plt.title(\"Distribution of Ratings on Netflix\")\n",
    "plt.xlabel(\"Rating\")\n",
    "plt.ylabel(\"Count\")\n",
    "plt.xticks(rotation=45)\n",
    "plt.show()"
   ]
  },
  {
   "cell_type": "code",
   "execution_count": null,
   "id": "7acff17a",
   "metadata": {
    "papermill": {
     "duration": 0.007675,
     "end_time": "2025-05-12T17:02:06.170298",
     "exception": false,
     "start_time": "2025-05-12T17:02:06.162623",
     "status": "completed"
    },
    "tags": []
   },
   "outputs": [],
   "source": []
  }
 ],
 "metadata": {
  "kaggle": {
   "accelerator": "none",
   "dataSources": [
    {
     "datasetId": 434238,
     "sourceId": 2654038,
     "sourceType": "datasetVersion"
    }
   ],
   "dockerImageVersionId": 31012,
   "isGpuEnabled": false,
   "isInternetEnabled": true,
   "language": "python",
   "sourceType": "notebook"
  },
  "kernelspec": {
   "display_name": "Python 3",
   "language": "python",
   "name": "python3"
  },
  "language_info": {
   "codemirror_mode": {
    "name": "ipython",
    "version": 3
   },
   "file_extension": ".py",
   "mimetype": "text/x-python",
   "name": "python",
   "nbconvert_exporter": "python",
   "pygments_lexer": "ipython3",
   "version": "3.11.11"
  },
  "papermill": {
   "default_parameters": {},
   "duration": 11.820161,
   "end_time": "2025-05-12T17:02:06.901612",
   "environment_variables": {},
   "exception": null,
   "input_path": "__notebook__.ipynb",
   "output_path": "__notebook__.ipynb",
   "parameters": {},
   "start_time": "2025-05-12T17:01:55.081451",
   "version": "2.6.0"
  }
 },
 "nbformat": 4,
 "nbformat_minor": 5
}
